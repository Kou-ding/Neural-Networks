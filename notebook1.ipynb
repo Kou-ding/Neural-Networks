{
 "cells": [
  {
   "cell_type": "code",
   "execution_count": 1,
   "metadata": {},
   "outputs": [
    {
     "name": "stdout",
     "output_type": "stream",
     "text": [
      "hi\n"
     ]
    }
   ],
   "source": [
    "print(\"hi\")"
   ]
  },
  {
   "cell_type": "markdown",
   "metadata": {},
   "source": [
    "### Classifiers\n",
    "Imagine two classes graphed in a 2d plane. There are two ways of defining in which class our input belongs to. The nearest neighbor which calculates what class our input is based on what class most of the nearest neighbors are: \n",
    "- Nearest neighbor \n",
    "    - 1 nearest neighbor\n",
    "    - 3 nearest neighbors\n",
    "\n",
    "<img src=\"media/A-simple-example-of-3-nearest-neighbor-classification-2059310993.png\" alt=\"Nearest Neighbor\" width=\"300\"/>\n",
    "\n",
    "And the other method is calculating our input based on which center of the classes is closer to our input: \n",
    "- Nearest center\n",
    "\n",
    "<img src=\"media/text-and-text-stream-mining-tutorial-67-638-3168917832.jpg\" alt=\"Nearest Centroid\" width=\"300\"/>"
   ]
  }
 ],
 "metadata": {
  "kernelspec": {
   "display_name": "vproject1",
   "language": "python",
   "name": "python3"
  },
  "language_info": {
   "codemirror_mode": {
    "name": "ipython",
    "version": 3
   },
   "file_extension": ".py",
   "mimetype": "text/x-python",
   "name": "python",
   "nbconvert_exporter": "python",
   "pygments_lexer": "ipython3",
   "version": "3.12.7"
  }
 },
 "nbformat": 4,
 "nbformat_minor": 2
}
